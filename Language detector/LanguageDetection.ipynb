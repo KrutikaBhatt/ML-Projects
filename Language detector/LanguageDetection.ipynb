{
  "nbformat": 4,
  "nbformat_minor": 0,
  "metadata": {
    "colab": {
      "name": "LanguageDetection.ipynb",
      "provenance": [],
      "collapsed_sections": [],
      "toc_visible": true
    },
    "kernelspec": {
      "name": "python3",
      "display_name": "Python 3"
    },
    "language_info": {
      "name": "python"
    }
  },
  "cells": [
    {
      "cell_type": "markdown",
      "metadata": {
        "id": "hhf8AxcOtvql"
      },
      "source": [
        "## Language Detection using NLP"
      ]
    },
    {
      "cell_type": "code",
      "metadata": {
        "colab": {
          "base_uri": "https://localhost:8080/",
          "height": 679
        },
        "id": "TRSyxRkDqzb5",
        "outputId": "a3b57d59-419b-45b5-86d1-7757bb0dceb7"
      },
      "source": [
        "import pandas as pd\n",
        "import seaborn as sns\n",
        "import warnings\n",
        "warnings.filterwarnings('ignore')\n",
        "\n",
        "df_main = pd.read_csv('/Language Detection.csv');\n",
        "\n",
        "df2 = pd.read_csv('/hindi.csv')\n",
        "\n",
        "print(\"The Language Detection dataset :\")\n",
        "df_main.head(20)\n"
      ],
      "execution_count": 1,
      "outputs": [
        {
          "output_type": "stream",
          "text": [
            "The Language Detection dataset :\n"
          ],
          "name": "stdout"
        },
        {
          "output_type": "execute_result",
          "data": {
            "text/html": [
              "<div>\n",
              "<style scoped>\n",
              "    .dataframe tbody tr th:only-of-type {\n",
              "        vertical-align: middle;\n",
              "    }\n",
              "\n",
              "    .dataframe tbody tr th {\n",
              "        vertical-align: top;\n",
              "    }\n",
              "\n",
              "    .dataframe thead th {\n",
              "        text-align: right;\n",
              "    }\n",
              "</style>\n",
              "<table border=\"1\" class=\"dataframe\">\n",
              "  <thead>\n",
              "    <tr style=\"text-align: right;\">\n",
              "      <th></th>\n",
              "      <th>Text</th>\n",
              "      <th>Language</th>\n",
              "    </tr>\n",
              "  </thead>\n",
              "  <tbody>\n",
              "    <tr>\n",
              "      <th>0</th>\n",
              "      <td>Nature, in the broadest sense, is the natural...</td>\n",
              "      <td>English</td>\n",
              "    </tr>\n",
              "    <tr>\n",
              "      <th>1</th>\n",
              "      <td>\"Nature\" can refer to the phenomena of the phy...</td>\n",
              "      <td>English</td>\n",
              "    </tr>\n",
              "    <tr>\n",
              "      <th>2</th>\n",
              "      <td>The study of nature is a large, if not the onl...</td>\n",
              "      <td>English</td>\n",
              "    </tr>\n",
              "    <tr>\n",
              "      <th>3</th>\n",
              "      <td>Although humans are part of nature, human acti...</td>\n",
              "      <td>English</td>\n",
              "    </tr>\n",
              "    <tr>\n",
              "      <th>4</th>\n",
              "      <td>[1] The word nature is borrowed from the Old F...</td>\n",
              "      <td>English</td>\n",
              "    </tr>\n",
              "    <tr>\n",
              "      <th>5</th>\n",
              "      <td>[2] In ancient philosophy, natura is mostly us...</td>\n",
              "      <td>English</td>\n",
              "    </tr>\n",
              "    <tr>\n",
              "      <th>6</th>\n",
              "      <td>[3][4] \\nThe concept of nature as a whole, the...</td>\n",
              "      <td>English</td>\n",
              "    </tr>\n",
              "    <tr>\n",
              "      <th>7</th>\n",
              "      <td>During the advent of modern scientific method ...</td>\n",
              "      <td>English</td>\n",
              "    </tr>\n",
              "    <tr>\n",
              "      <th>8</th>\n",
              "      <td>[5][6] With the Industrial revolution, nature ...</td>\n",
              "      <td>English</td>\n",
              "    </tr>\n",
              "    <tr>\n",
              "      <th>9</th>\n",
              "      <td>However, a vitalist vision of nature, closer t...</td>\n",
              "      <td>English</td>\n",
              "    </tr>\n",
              "    <tr>\n",
              "      <th>10</th>\n",
              "      <td>[1] Within the various uses of the word today,...</td>\n",
              "      <td>English</td>\n",
              "    </tr>\n",
              "    <tr>\n",
              "      <th>11</th>\n",
              "      <td>Nature can refer to the general realm of livin...</td>\n",
              "      <td>English</td>\n",
              "    </tr>\n",
              "    <tr>\n",
              "      <th>12</th>\n",
              "      <td>It is often taken to mean the \"natural environ...</td>\n",
              "      <td>English</td>\n",
              "    </tr>\n",
              "    <tr>\n",
              "      <th>13</th>\n",
              "      <td>For example, manufactured objects and human in...</td>\n",
              "      <td>English</td>\n",
              "    </tr>\n",
              "    <tr>\n",
              "      <th>14</th>\n",
              "      <td>This more traditional concept of natural thing...</td>\n",
              "      <td>English</td>\n",
              "    </tr>\n",
              "    <tr>\n",
              "      <th>15</th>\n",
              "      <td>Depending on the particular context, the term ...</td>\n",
              "      <td>English</td>\n",
              "    </tr>\n",
              "    <tr>\n",
              "      <th>16</th>\n",
              "      <td>[1] Earth is the only planet known to support ...</td>\n",
              "      <td>English</td>\n",
              "    </tr>\n",
              "    <tr>\n",
              "      <th>17</th>\n",
              "      <td>Within the solar system, it is third closest t...</td>\n",
              "      <td>English</td>\n",
              "    </tr>\n",
              "    <tr>\n",
              "      <th>18</th>\n",
              "      <td>Its most prominent climatic features are its t...</td>\n",
              "      <td>English</td>\n",
              "    </tr>\n",
              "    <tr>\n",
              "      <th>19</th>\n",
              "      <td>[7] Precipitation varies widely with location,...</td>\n",
              "      <td>English</td>\n",
              "    </tr>\n",
              "  </tbody>\n",
              "</table>\n",
              "</div>"
            ],
            "text/plain": [
              "                                                 Text Language\n",
              "0    Nature, in the broadest sense, is the natural...  English\n",
              "1   \"Nature\" can refer to the phenomena of the phy...  English\n",
              "2   The study of nature is a large, if not the onl...  English\n",
              "3   Although humans are part of nature, human acti...  English\n",
              "4   [1] The word nature is borrowed from the Old F...  English\n",
              "5   [2] In ancient philosophy, natura is mostly us...  English\n",
              "6   [3][4] \\nThe concept of nature as a whole, the...  English\n",
              "7   During the advent of modern scientific method ...  English\n",
              "8   [5][6] With the Industrial revolution, nature ...  English\n",
              "9   However, a vitalist vision of nature, closer t...  English\n",
              "10  [1] Within the various uses of the word today,...  English\n",
              "11  Nature can refer to the general realm of livin...  English\n",
              "12  It is often taken to mean the \"natural environ...  English\n",
              "13  For example, manufactured objects and human in...  English\n",
              "14  This more traditional concept of natural thing...  English\n",
              "15  Depending on the particular context, the term ...  English\n",
              "16  [1] Earth is the only planet known to support ...  English\n",
              "17  Within the solar system, it is third closest t...  English\n",
              "18  Its most prominent climatic features are its t...  English\n",
              "19  [7] Precipitation varies widely with location,...  English"
            ]
          },
          "metadata": {
            "tags": []
          },
          "execution_count": 1
        }
      ]
    },
    {
      "cell_type": "code",
      "metadata": {
        "colab": {
          "base_uri": "https://localhost:8080/",
          "height": 697
        },
        "id": "NsVla8MFtqsk",
        "outputId": "42e63d91-247f-4728-c2f9-eb5cebfdeeb6"
      },
      "source": [
        "print(\"\\nThe Hindi dataset : \")\n",
        "df2.head(20)"
      ],
      "execution_count": 2,
      "outputs": [
        {
          "output_type": "stream",
          "text": [
            "\n",
            "The Hindi dataset : \n"
          ],
          "name": "stdout"
        },
        {
          "output_type": "execute_result",
          "data": {
            "text/html": [
              "<div>\n",
              "<style scoped>\n",
              "    .dataframe tbody tr th:only-of-type {\n",
              "        vertical-align: middle;\n",
              "    }\n",
              "\n",
              "    .dataframe tbody tr th {\n",
              "        vertical-align: top;\n",
              "    }\n",
              "\n",
              "    .dataframe thead th {\n",
              "        text-align: right;\n",
              "    }\n",
              "</style>\n",
              "<table border=\"1\" class=\"dataframe\">\n",
              "  <thead>\n",
              "    <tr style=\"text-align: right;\">\n",
              "      <th></th>\n",
              "      <th>Text</th>\n",
              "      <th>Language</th>\n",
              "    </tr>\n",
              "  </thead>\n",
              "  <tbody>\n",
              "    <tr>\n",
              "      <th>0</th>\n",
              "      <td>चंद्रमोहन शर्मा को-प्रड्यूसर और लीड ऐक्टर अक्ष...</td>\n",
              "      <td>Hindi</td>\n",
              "    </tr>\n",
              "    <tr>\n",
              "      <th>1</th>\n",
              "      <td>अगर आप इस फिल्म को देखने जा रहे हैं तो सबसे पह...</td>\n",
              "      <td>Hindi</td>\n",
              "    </tr>\n",
              "    <tr>\n",
              "      <th>2</th>\n",
              "      <td>बॉलीवुड वाले चोरी-छिपे हॉलीवुड फिल्मों से कहान...</td>\n",
              "      <td>Hindi</td>\n",
              "    </tr>\n",
              "    <tr>\n",
              "      <th>3</th>\n",
              "      <td>बैनर :\\nसंजय दत्त प्रोडक्शन्स प्रा.लि., रुपाली...</td>\n",
              "      <td>Hindi</td>\n",
              "    </tr>\n",
              "    <tr>\n",
              "      <th>4</th>\n",
              "      <td>1959 में घटित चर्चित नानावटी कांड में एक क्राइ...</td>\n",
              "      <td>Hindi</td>\n",
              "    </tr>\n",
              "    <tr>\n",
              "      <th>5</th>\n",
              "      <td>बैनर ‍:\\nमिलेनियम फिल्म्स\\n\\nनिर्देशक :\\nपेट्र...</td>\n",
              "      <td>Hindi</td>\n",
              "    </tr>\n",
              "    <tr>\n",
              "      <th>6</th>\n",
              "      <td>\\nचश्मे बद्दूर (1981) एक क्लासिक मूवी है, जिसे...</td>\n",
              "      <td>Hindi</td>\n",
              "    </tr>\n",
              "    <tr>\n",
              "      <th>7</th>\n",
              "      <td>\\n\\nदिल्ली की एक पांच सितारा होटल में डैन (वरु...</td>\n",
              "      <td>Hindi</td>\n",
              "    </tr>\n",
              "    <tr>\n",
              "      <th>8</th>\n",
              "      <td>\\nहसीना एक घरेलू लड़की थी, लेकिन भाई के भाग जा...</td>\n",
              "      <td>Hindi</td>\n",
              "    </tr>\n",
              "    <tr>\n",
              "      <th>9</th>\n",
              "      <td>जैसा कि फिल्म के नाम से ही जाहिर है कि हर बार ...</td>\n",
              "      <td>Hindi</td>\n",
              "    </tr>\n",
              "    <tr>\n",
              "      <th>10</th>\n",
              "      <td>IFM \\r\\t\\t\\t\\t\\t\\t\\t\\t\\tIFM \\r\\t\\t\\t\\t\\t\\t\\t\\t...</td>\n",
              "      <td>Hindi</td>\n",
              "    </tr>\n",
              "    <tr>\n",
              "      <th>11</th>\n",
              "      <td>अंकुर कुमार युद्ध के बीच प्यार का मेसेज देने व...</td>\n",
              "      <td>Hindi</td>\n",
              "    </tr>\n",
              "    <tr>\n",
              "      <th>12</th>\n",
              "      <td>बैनर :\\nवाइड फ्रेम पिक्चर्स, वायकॉम 18 मोशन पि...</td>\n",
              "      <td>Hindi</td>\n",
              "    </tr>\n",
              "    <tr>\n",
              "      <th>13</th>\n",
              "      <td>\\n\\nबाहुबली दो में इसका जवाब इंटरवल के बाद मिल...</td>\n",
              "      <td>Hindi</td>\n",
              "    </tr>\n",
              "    <tr>\n",
              "      <th>14</th>\n",
              "      <td>\\n\\nलिबास से भले ही हम कितने ही आधुनिक हो गए ह...</td>\n",
              "      <td>Hindi</td>\n",
              "    </tr>\n",
              "    <tr>\n",
              "      <th>15</th>\n",
              "      <td>निर्माता :\\nअशोक घई\\n\\nनिर्देशक :\\nमनोज तिवारी...</td>\n",
              "      <td>Hindi</td>\n",
              "    </tr>\n",
              "    <tr>\n",
              "      <th>16</th>\n",
              "      <td>फिल्म में पैसा लगाया गया है, लेकिन वो पानी में...</td>\n",
              "      <td>Hindi</td>\n",
              "    </tr>\n",
              "    <tr>\n",
              "      <th>17</th>\n",
              "      <td>1- बेकार/ 2- औसत/ 3- अच्छी/ 4- शानदार/ 5- अद्‍...</td>\n",
              "      <td>Hindi</td>\n",
              "    </tr>\n",
              "    <tr>\n",
              "      <th>18</th>\n",
              "      <td>जैकी चैन और सोनू सूद स्टारर इस फिल्म का बजट 65...</td>\n",
              "      <td>Hindi</td>\n",
              "    </tr>\n",
              "    <tr>\n",
              "      <th>19</th>\n",
              "      <td>घटिया मसाला फिल्मों के बीच ‘रॉक ऑन’ एक ताजे हव...</td>\n",
              "      <td>Hindi</td>\n",
              "    </tr>\n",
              "  </tbody>\n",
              "</table>\n",
              "</div>"
            ],
            "text/plain": [
              "                                                 Text Language\n",
              "0   चंद्रमोहन शर्मा को-प्रड्यूसर और लीड ऐक्टर अक्ष...    Hindi\n",
              "1   अगर आप इस फिल्म को देखने जा रहे हैं तो सबसे पह...    Hindi\n",
              "2   बॉलीवुड वाले चोरी-छिपे हॉलीवुड फिल्मों से कहान...    Hindi\n",
              "3   बैनर :\\nसंजय दत्त प्रोडक्शन्स प्रा.लि., रुपाली...    Hindi\n",
              "4   1959 में घटित चर्चित नानावटी कांड में एक क्राइ...    Hindi\n",
              "5   बैनर ‍:\\nमिलेनियम फिल्म्स\\n\\nनिर्देशक :\\nपेट्र...    Hindi\n",
              "6   \\nचश्मे बद्दूर (1981) एक क्लासिक मूवी है, जिसे...    Hindi\n",
              "7   \\n\\nदिल्ली की एक पांच सितारा होटल में डैन (वरु...    Hindi\n",
              "8   \\nहसीना एक घरेलू लड़की थी, लेकिन भाई के भाग जा...    Hindi\n",
              "9   जैसा कि फिल्म के नाम से ही जाहिर है कि हर बार ...    Hindi\n",
              "10  IFM \\r\\t\\t\\t\\t\\t\\t\\t\\t\\tIFM \\r\\t\\t\\t\\t\\t\\t\\t\\t...    Hindi\n",
              "11  अंकुर कुमार युद्ध के बीच प्यार का मेसेज देने व...    Hindi\n",
              "12  बैनर :\\nवाइड फ्रेम पिक्चर्स, वायकॉम 18 मोशन पि...    Hindi\n",
              "13  \\n\\nबाहुबली दो में इसका जवाब इंटरवल के बाद मिल...    Hindi\n",
              "14  \\n\\nलिबास से भले ही हम कितने ही आधुनिक हो गए ह...    Hindi\n",
              "15  निर्माता :\\nअशोक घई\\n\\nनिर्देशक :\\nमनोज तिवारी...    Hindi\n",
              "16  फिल्म में पैसा लगाया गया है, लेकिन वो पानी में...    Hindi\n",
              "17  1- बेकार/ 2- औसत/ 3- अच्छी/ 4- शानदार/ 5- अद्‍...    Hindi\n",
              "18  जैकी चैन और सोनू सूद स्टारर इस फिल्म का बजट 65...    Hindi\n",
              "19  घटिया मसाला फिल्मों के बीच ‘रॉक ऑन’ एक ताजे हव...    Hindi"
            ]
          },
          "metadata": {
            "tags": []
          },
          "execution_count": 2
        }
      ]
    },
    {
      "cell_type": "code",
      "metadata": {
        "colab": {
          "base_uri": "https://localhost:8080/",
          "height": 415
        },
        "id": "_zk6lvHpuEZM",
        "outputId": "58b1c870-4e11-46b8-c5d7-7b43d2e88623"
      },
      "source": [
        "#Appending the datasets\n",
        "\n",
        "df = df_main.append(df2,ignore_index=True)\n",
        "df"
      ],
      "execution_count": 3,
      "outputs": [
        {
          "output_type": "execute_result",
          "data": {
            "text/html": [
              "<div>\n",
              "<style scoped>\n",
              "    .dataframe tbody tr th:only-of-type {\n",
              "        vertical-align: middle;\n",
              "    }\n",
              "\n",
              "    .dataframe tbody tr th {\n",
              "        vertical-align: top;\n",
              "    }\n",
              "\n",
              "    .dataframe thead th {\n",
              "        text-align: right;\n",
              "    }\n",
              "</style>\n",
              "<table border=\"1\" class=\"dataframe\">\n",
              "  <thead>\n",
              "    <tr style=\"text-align: right;\">\n",
              "      <th></th>\n",
              "      <th>Text</th>\n",
              "      <th>Language</th>\n",
              "    </tr>\n",
              "  </thead>\n",
              "  <tbody>\n",
              "    <tr>\n",
              "      <th>0</th>\n",
              "      <td>Nature, in the broadest sense, is the natural...</td>\n",
              "      <td>English</td>\n",
              "    </tr>\n",
              "    <tr>\n",
              "      <th>1</th>\n",
              "      <td>\"Nature\" can refer to the phenomena of the phy...</td>\n",
              "      <td>English</td>\n",
              "    </tr>\n",
              "    <tr>\n",
              "      <th>2</th>\n",
              "      <td>The study of nature is a large, if not the onl...</td>\n",
              "      <td>English</td>\n",
              "    </tr>\n",
              "    <tr>\n",
              "      <th>3</th>\n",
              "      <td>Although humans are part of nature, human acti...</td>\n",
              "      <td>English</td>\n",
              "    </tr>\n",
              "    <tr>\n",
              "      <th>4</th>\n",
              "      <td>[1] The word nature is borrowed from the Old F...</td>\n",
              "      <td>English</td>\n",
              "    </tr>\n",
              "    <tr>\n",
              "      <th>...</th>\n",
              "      <td>...</td>\n",
              "      <td>...</td>\n",
              "    </tr>\n",
              "    <tr>\n",
              "      <th>11050</th>\n",
              "      <td>31 अक्टूबर 1984 को काला दिवस कहा जाता है। इस द...</td>\n",
              "      <td>Hindi</td>\n",
              "    </tr>\n",
              "    <tr>\n",
              "      <th>11051</th>\n",
              "      <td>\\n\\nगुंडे को देख सत्तर और अस्सी के दशक का सिने...</td>\n",
              "      <td>Hindi</td>\n",
              "    </tr>\n",
              "    <tr>\n",
              "      <th>11052</th>\n",
              "      <td>Chandermohan.sharma@timesgroup.com ग्लैमर इंडस...</td>\n",
              "      <td>Hindi</td>\n",
              "    </tr>\n",
              "    <tr>\n",
              "      <th>11053</th>\n",
              "      <td>निर्माता :\\nसुनीता गोवारीकर, अजय बिजली, संजीव ...</td>\n",
              "      <td>Hindi</td>\n",
              "    </tr>\n",
              "    <tr>\n",
              "      <th>11054</th>\n",
              "      <td>फोर्स 2 उन अंडरकवर एजेंट्स को समर्पित है जो सम...</td>\n",
              "      <td>Hindi</td>\n",
              "    </tr>\n",
              "  </tbody>\n",
              "</table>\n",
              "<p>11055 rows × 2 columns</p>\n",
              "</div>"
            ],
            "text/plain": [
              "                                                    Text Language\n",
              "0       Nature, in the broadest sense, is the natural...  English\n",
              "1      \"Nature\" can refer to the phenomena of the phy...  English\n",
              "2      The study of nature is a large, if not the onl...  English\n",
              "3      Although humans are part of nature, human acti...  English\n",
              "4      [1] The word nature is borrowed from the Old F...  English\n",
              "...                                                  ...      ...\n",
              "11050  31 अक्टूबर 1984 को काला दिवस कहा जाता है। इस द...    Hindi\n",
              "11051  \\n\\nगुंडे को देख सत्तर और अस्सी के दशक का सिने...    Hindi\n",
              "11052  Chandermohan.sharma@timesgroup.com ग्लैमर इंडस...    Hindi\n",
              "11053  निर्माता :\\nसुनीता गोवारीकर, अजय बिजली, संजीव ...    Hindi\n",
              "11054  फोर्स 2 उन अंडरकवर एजेंट्स को समर्पित है जो सम...    Hindi\n",
              "\n",
              "[11055 rows x 2 columns]"
            ]
          },
          "metadata": {
            "tags": []
          },
          "execution_count": 3
        }
      ]
    },
    {
      "cell_type": "markdown",
      "metadata": {
        "id": "tqy8LGoMulTD"
      },
      "source": [
        "### Lets explore the data in the dataset"
      ]
    },
    {
      "cell_type": "code",
      "metadata": {
        "colab": {
          "base_uri": "https://localhost:8080/"
        },
        "id": "NfHEOXAju50l",
        "outputId": "0da4e900-0afd-45b8-9ff5-4e21b8f518ab"
      },
      "source": [
        "df.info()\n",
        "\n",
        "print(\"\\nThe size of dataset :{0}\".format(df.size))\n"
      ],
      "execution_count": 4,
      "outputs": [
        {
          "output_type": "stream",
          "text": [
            "<class 'pandas.core.frame.DataFrame'>\n",
            "RangeIndex: 11055 entries, 0 to 11054\n",
            "Data columns (total 2 columns):\n",
            " #   Column    Non-Null Count  Dtype \n",
            "---  ------    --------------  ----- \n",
            " 0   Text      11055 non-null  object\n",
            " 1   Language  11055 non-null  object\n",
            "dtypes: object(2)\n",
            "memory usage: 172.9+ KB\n",
            "\n",
            "The size of dataset :22110\n"
          ],
          "name": "stdout"
        }
      ]
    },
    {
      "cell_type": "markdown",
      "metadata": {
        "id": "f2xa3bzpvyIj"
      },
      "source": [
        "#### Get the Languages count - "
      ]
    },
    {
      "cell_type": "code",
      "metadata": {
        "colab": {
          "base_uri": "https://localhost:8080/"
        },
        "id": "QggNdPuOwC6p",
        "outputId": "ac70f383-8198-40c4-fd9e-24dce8056686"
      },
      "source": [
        "df.Language.value_counts()"
      ],
      "execution_count": 5,
      "outputs": [
        {
          "output_type": "execute_result",
          "data": {
            "text/plain": [
              "English       1385\n",
              "French        1014\n",
              "Spanish        819\n",
              "Hindi          781\n",
              "Portugeese     739\n",
              "Italian        698\n",
              "Russian        692\n",
              "Sweedish       676\n",
              "Malayalam      594\n",
              "Dutch          546\n",
              "Arabic         536\n",
              "Turkish        474\n",
              "German         470\n",
              "Tamil          469\n",
              "Danish         428\n",
              "Kannada        369\n",
              "Greek          365\n",
              "Name: Language, dtype: int64"
            ]
          },
          "metadata": {
            "tags": []
          },
          "execution_count": 5
        }
      ]
    },
    {
      "cell_type": "code",
      "metadata": {
        "colab": {
          "base_uri": "https://localhost:8080/",
          "height": 202
        },
        "id": "GFL4DDZYwVCG",
        "outputId": "09e12633-edca-424e-a5aa-d5e329d31905"
      },
      "source": [
        "df[df.Language =='Arabic'].head(5)"
      ],
      "execution_count": 6,
      "outputs": [
        {
          "output_type": "execute_result",
          "data": {
            "text/html": [
              "<div>\n",
              "<style scoped>\n",
              "    .dataframe tbody tr th:only-of-type {\n",
              "        vertical-align: middle;\n",
              "    }\n",
              "\n",
              "    .dataframe tbody tr th {\n",
              "        vertical-align: top;\n",
              "    }\n",
              "\n",
              "    .dataframe thead th {\n",
              "        text-align: right;\n",
              "    }\n",
              "</style>\n",
              "<table border=\"1\" class=\"dataframe\">\n",
              "  <thead>\n",
              "    <tr style=\"text-align: right;\">\n",
              "      <th></th>\n",
              "      <th>Text</th>\n",
              "      <th>Language</th>\n",
              "    </tr>\n",
              "  </thead>\n",
              "  <tbody>\n",
              "    <tr>\n",
              "      <th>8962</th>\n",
              "      <td>نيتشر (بالإنجليزية: Nature)‏ قد تعني:    تعديل...</td>\n",
              "      <td>Arabic</td>\n",
              "    </tr>\n",
              "    <tr>\n",
              "      <th>8963</th>\n",
              "      <td>ويكيبيديا هي موسوعة يمكن لأي مستخدم تعديل وتحر...</td>\n",
              "      <td>Arabic</td>\n",
              "    </tr>\n",
              "    <tr>\n",
              "      <th>8964</th>\n",
              "      <td>في مارس 2009 كان في ويكيبيديا 15 مليون مقالة ت...</td>\n",
              "      <td>Arabic</td>\n",
              "    </tr>\n",
              "    <tr>\n",
              "      <th>8965</th>\n",
              "      <td>في يوم 17 أغسطس، 2009: وصلت ويكيبيديا الإنجليز...</td>\n",
              "      <td>Arabic</td>\n",
              "    </tr>\n",
              "    <tr>\n",
              "      <th>8966</th>\n",
              "      <td>[8] تكتب المقالات تعاونيًا بواسطة متطوعين من ح...</td>\n",
              "      <td>Arabic</td>\n",
              "    </tr>\n",
              "  </tbody>\n",
              "</table>\n",
              "</div>"
            ],
            "text/plain": [
              "                                                   Text Language\n",
              "8962  نيتشر (بالإنجليزية: Nature)‏ قد تعني:    تعديل...   Arabic\n",
              "8963  ويكيبيديا هي موسوعة يمكن لأي مستخدم تعديل وتحر...   Arabic\n",
              "8964  في مارس 2009 كان في ويكيبيديا 15 مليون مقالة ت...   Arabic\n",
              "8965  في يوم 17 أغسطس، 2009: وصلت ويكيبيديا الإنجليز...   Arabic\n",
              "8966  [8] تكتب المقالات تعاونيًا بواسطة متطوعين من ح...   Arabic"
            ]
          },
          "metadata": {
            "tags": []
          },
          "execution_count": 6
        }
      ]
    },
    {
      "cell_type": "code",
      "metadata": {
        "colab": {
          "base_uri": "https://localhost:8080/",
          "height": 202
        },
        "id": "s5U9-v1Iw3tY",
        "outputId": "1e3437ef-d3af-4a12-af78-b2d82160d2f1"
      },
      "source": [
        "df[df.Language == 'Tamil'].head(5)"
      ],
      "execution_count": 7,
      "outputs": [
        {
          "output_type": "execute_result",
          "data": {
            "text/html": [
              "<div>\n",
              "<style scoped>\n",
              "    .dataframe tbody tr th:only-of-type {\n",
              "        vertical-align: middle;\n",
              "    }\n",
              "\n",
              "    .dataframe tbody tr th {\n",
              "        vertical-align: top;\n",
              "    }\n",
              "\n",
              "    .dataframe thead th {\n",
              "        text-align: right;\n",
              "    }\n",
              "</style>\n",
              "<table border=\"1\" class=\"dataframe\">\n",
              "  <thead>\n",
              "    <tr style=\"text-align: right;\">\n",
              "      <th></th>\n",
              "      <th>Text</th>\n",
              "      <th>Language</th>\n",
              "    </tr>\n",
              "  </thead>\n",
              "  <tbody>\n",
              "    <tr>\n",
              "      <th>2042</th>\n",
              "      <td>விக்கிப்பீடியா (Wikipedia; /ˌwɪkɪˈpiːdiə/ (கேட...</td>\n",
              "      <td>Tamil</td>\n",
              "    </tr>\n",
              "    <tr>\n",
              "      <th>2043</th>\n",
              "      <td>தமிழ் விக்கிப்பீடியாவின் 1,00,000க்கும் மேற்பட...</td>\n",
              "      <td>Tamil</td>\n",
              "    </tr>\n",
              "    <tr>\n",
              "      <th>2044</th>\n",
              "      <td>பெரும்பாலும் இதன் எல்லாக் கட்டுரைகளும், இதனைப்...</td>\n",
              "      <td>Tamil</td>\n",
              "    </tr>\n",
              "    <tr>\n",
              "      <th>2045</th>\n",
              "      <td>[6] மேலும் இது கிட்டத்தட்ட 100,000 முனைப்பான ப...</td>\n",
              "      <td>Tamil</td>\n",
              "    </tr>\n",
              "    <tr>\n",
              "      <th>2046</th>\n",
              "      <td>[7][8] சனவரி 2021 வரையில், விக்கிப்பீடியா 285 ...</td>\n",
              "      <td>Tamil</td>\n",
              "    </tr>\n",
              "  </tbody>\n",
              "</table>\n",
              "</div>"
            ],
            "text/plain": [
              "                                                   Text Language\n",
              "2042  விக்கிப்பீடியா (Wikipedia; /ˌwɪkɪˈpiːdiə/ (கேட...    Tamil\n",
              "2043  தமிழ் விக்கிப்பீடியாவின் 1,00,000க்கும் மேற்பட...    Tamil\n",
              "2044  பெரும்பாலும் இதன் எல்லாக் கட்டுரைகளும், இதனைப்...    Tamil\n",
              "2045  [6] மேலும் இது கிட்டத்தட்ட 100,000 முனைப்பான ப...    Tamil\n",
              "2046  [7][8] சனவரி 2021 வரையில், விக்கிப்பீடியா 285 ...    Tamil"
            ]
          },
          "metadata": {
            "tags": []
          },
          "execution_count": 7
        }
      ]
    },
    {
      "cell_type": "markdown",
      "metadata": {
        "id": "pi42k_E6xf6C"
      },
      "source": [
        "## Text Preprocessing"
      ]
    },
    {
      "cell_type": "code",
      "metadata": {
        "id": "ulrOJNBKxmeG"
      },
      "source": [
        "#Function for removing symbols,numbers and punctuation\n",
        "import re\n",
        "import string\n",
        "\n",
        "def cleanStatement(text):\n",
        "  text = re.sub(r'[{}]'.format(string.punctuation), '', text)\n",
        "  text = re.sub(r'\\d+', '', text)       #Remove number\n",
        "  text = re.sub(r'[@]', '', text)\n",
        "\n",
        "  return text.lower()\n",
        "\n",
        "\n",
        "def removeEnglishLetter(text):\n",
        "  text = re.sub(r'[a-zA-Z]+', '', text)\n",
        "  return text.lower()\n",
        "\n"
      ],
      "execution_count": 8,
      "outputs": []
    },
    {
      "cell_type": "code",
      "metadata": {
        "colab": {
          "base_uri": "https://localhost:8080/"
        },
        "id": "PPcJeQZQ0Bzm",
        "outputId": "88e408be-c6e9-4376-d109-c3f858d33790"
      },
      "source": [
        "X0 = df.apply(lambda x: removeEnglishLetter(x.Text) if x.Language in ['Russian','Malyalam','Hindi','Kannada','Tamil','Arabic']  else x.Text, axis = 1)\n",
        "X0"
      ],
      "execution_count": 9,
      "outputs": [
        {
          "output_type": "execute_result",
          "data": {
            "text/plain": [
              "0         Nature, in the broadest sense, is the natural...\n",
              "1        \"Nature\" can refer to the phenomena of the phy...\n",
              "2        The study of nature is a large, if not the onl...\n",
              "3        Although humans are part of nature, human acti...\n",
              "4        [1] The word nature is borrowed from the Old F...\n",
              "                               ...                        \n",
              "11050    31 अक्टूबर 1984 को काला दिवस कहा जाता है। इस द...\n",
              "11051    \\n\\nगुंडे को देख सत्तर और अस्सी के दशक का सिने...\n",
              "11052    .@. ग्लैमर इंडस्ट्री में आर. बाल्की को बिग बी ...\n",
              "11053    निर्माता :\\nसुनीता गोवारीकर, अजय बिजली, संजीव ...\n",
              "11054    फोर्स 2 उन अंडरकवर एजेंट्स को समर्पित है जो सम...\n",
              "Length: 11055, dtype: object"
            ]
          },
          "metadata": {
            "tags": []
          },
          "execution_count": 9
        }
      ]
    },
    {
      "cell_type": "code",
      "metadata": {
        "colab": {
          "base_uri": "https://localhost:8080/"
        },
        "id": "1VCvAcQ60fWs",
        "outputId": "9fbd6b34-e62a-48c5-c849-bc6f5a461011"
      },
      "source": [
        "X1 = X0.apply(cleanStatement)\n",
        "X1"
      ],
      "execution_count": 10,
      "outputs": [
        {
          "output_type": "execute_result",
          "data": {
            "text/plain": [
              "0         nature in the broadest sense is the natural p...\n",
              "1        nature can refer to the phenomena of the physi...\n",
              "2        the study of nature is a large if not the only...\n",
              "3        although humans are part of nature human activ...\n",
              "4         the word nature is borrowed from the old fren...\n",
              "                               ...                        \n",
              "11050     अक्टूबर  को काला दिवस कहा जाता है। इस दिन तत्...\n",
              "11051    \\n\\nगुंडे को देख सत्तर और अस्सी के दशक का सिने...\n",
              "11052     ग्लैमर इंडस्ट्री में आर बाल्की को बिग बी का ऐ...\n",
              "11053    निर्माता \\nसुनीता गोवारीकर अजय बिजली संजीव के ...\n",
              "11054    फोर्स  उन अंडरकवर एजेंट्स को समर्पित है जो समय...\n",
              "Length: 11055, dtype: object"
            ]
          },
          "metadata": {
            "tags": []
          },
          "execution_count": 10
        }
      ]
    },
    {
      "cell_type": "code",
      "metadata": {
        "id": "-OtVo4HQ14oj"
      },
      "source": [
        "from sklearn.metrics import accuracy_score, confusion_matrix, classification_report\n",
        "from sklearn.feature_extraction.text import TfidfVectorizer\n",
        "from sklearn import pipeline\n",
        "from sklearn.linear_model import LogisticRegression\n",
        "from sklearn.model_selection import train_test_split\n",
        "import matplotlib.pyplot as plt\n",
        "\n",
        "\n",
        "model_y = df['Language']\n",
        "X_train, X_test, Y_train, Y_test = train_test_split(X1,model_y, random_state=42)"
      ],
      "execution_count": 11,
      "outputs": []
    },
    {
      "cell_type": "code",
      "metadata": {
        "id": "BckFBtfJ2zAE"
      },
      "source": [
        "vectorizer = TfidfVectorizer(ngram_range=(1,3), analyzer='char')"
      ],
      "execution_count": 12,
      "outputs": []
    },
    {
      "cell_type": "code",
      "metadata": {
        "colab": {
          "base_uri": "https://localhost:8080/"
        },
        "id": "m5wUWCfI3TRk",
        "outputId": "9ff5ad8a-a400-4dc8-98db-340f9a92145b"
      },
      "source": [
        "model = pipeline.Pipeline([('vectorizer', vectorizer),('clf', LogisticRegression())])\n",
        "\n",
        "model.fit(X_train,Y_train)"
      ],
      "execution_count": 13,
      "outputs": [
        {
          "output_type": "execute_result",
          "data": {
            "text/plain": [
              "Pipeline(memory=None,\n",
              "         steps=[('vectorizer',\n",
              "                 TfidfVectorizer(analyzer='char', binary=False,\n",
              "                                 decode_error='strict',\n",
              "                                 dtype=<class 'numpy.float64'>,\n",
              "                                 encoding='utf-8', input='content',\n",
              "                                 lowercase=True, max_df=1.0, max_features=None,\n",
              "                                 min_df=1, ngram_range=(1, 3), norm='l2',\n",
              "                                 preprocessor=None, smooth_idf=True,\n",
              "                                 stop_words=None, strip_accents=None,\n",
              "                                 sublinear_tf=False,\n",
              "                                 token_pattern='(?u)\\\\b\\\\w\\\\w+\\\\b',\n",
              "                                 tokenizer=None, use_idf=True,\n",
              "                                 vocabulary=None)),\n",
              "                ('clf',\n",
              "                 LogisticRegression(C=1.0, class_weight=None, dual=False,\n",
              "                                    fit_intercept=True, intercept_scaling=1,\n",
              "                                    l1_ratio=None, max_iter=100,\n",
              "                                    multi_class='auto', n_jobs=None,\n",
              "                                    penalty='l2', random_state=None,\n",
              "                                    solver='lbfgs', tol=0.0001, verbose=0,\n",
              "                                    warm_start=False))],\n",
              "         verbose=False)"
            ]
          },
          "metadata": {
            "tags": []
          },
          "execution_count": 13
        }
      ]
    },
    {
      "cell_type": "code",
      "metadata": {
        "colab": {
          "base_uri": "https://localhost:8080/"
        },
        "id": "ItJOF4o43n9u",
        "outputId": "5f85f4c9-f431-49d8-adc8-fd5d75d4bc1b"
      },
      "source": [
        "predict = model.predict(X_test)\n",
        "accuracy = accuracy_score(Y_test,predict)\n",
        "cm = confusion_matrix(Y_test,predict)\n",
        "\n",
        "print(f'The Accuracy is :{accuracy}')"
      ],
      "execution_count": 14,
      "outputs": [
        {
          "output_type": "stream",
          "text": [
            "The Accuracy is :0.983357452966715\n"
          ],
          "name": "stdout"
        }
      ]
    },
    {
      "cell_type": "code",
      "metadata": {
        "colab": {
          "base_uri": "https://localhost:8080/",
          "height": 592
        },
        "id": "XT0w2BmP4UUe",
        "outputId": "87b0b9f0-48f7-485d-ab08-8ebd9ee6a10a"
      },
      "source": [
        "#Showing the confusion matrix\n",
        "plt.figure(figsize=(15,10))\n",
        "sns.heatmap(cm, annot = True)\n",
        "plt.show()"
      ],
      "execution_count": 15,
      "outputs": [
        {
          "output_type": "display_data",
          "data": {
            "image/png": "[encoded data removed]",
            "text/plain": [
              "<Figure size 1080x720 with 2 Axes>"
            ]
          },
          "metadata": {
            "tags": [],
            "needs_background": "light"
          }
        }
      ]
    },
    {
      "cell_type": "code",
      "metadata": {
        "colab": {
          "base_uri": "https://localhost:8080/"
        },
        "id": "BloX4zSS4mLk",
        "outputId": "7bc8cae3-8cb7-4e2c-8b6b-f589e72de336"
      },
      "source": [
        "#Main testing\n",
        "def languageDetection(text):\n",
        "  language = model.predict([text])\n",
        "  return language[0]\n",
        "\n",
        "inputText = input(\"Enter thr text :\")\n",
        "print(f'The language of text entered is - {languageDetection(inputText)}')"
      ],
      "execution_count": 16,
      "outputs": [
        {
          "output_type": "stream",
          "text": [
            "Enter thr text :Hello there. How are u?\n",
            "The language of text entered is - English\n"
          ],
          "name": "stdout"
        }
      ]
    },
    {
      "cell_type": "code",
      "metadata": {
        "colab": {
          "base_uri": "https://localhost:8080/"
        },
        "id": "tMWTxxAA6CSn",
        "outputId": "0fb7f81d-eaa7-4d75-f7e8-6b3fa6bc745d"
      },
      "source": [
        "inputText = input(\"Enter the text :\")\n",
        "print(f'The language of text entered is - {languageDetection(inputText)}')"
      ],
      "execution_count": 17,
      "outputs": [
        {
          "output_type": "stream",
          "text": [
            "Enter the text :नमस्कार क्या हालचाल हैं?\n",
            "The language of text entered is - Hindi\n"
          ],
          "name": "stdout"
        }
      ]
    },
    {
      "cell_type": "code",
      "metadata": {
        "colab": {
          "base_uri": "https://localhost:8080/"
        },
        "id": "YsdRuvq16QUK",
        "outputId": "bd1e1557-c5f1-4a71-f12d-f2e5bb54fd04"
      },
      "source": [
        "inputText = input(\"Enter the text :\")\n",
        "print(f'The language of text entered is - {languageDetection(inputText)}')"
      ],
      "execution_count": 18,
      "outputs": [
        {
          "output_type": "stream",
          "text": [
            "Enter the text :مرحبًا، كيف حالك؟qkejhf\n",
            "The language of text entered is - Arabic\n"
          ],
          "name": "stdout"
        }
      ]
    }
  ]
}