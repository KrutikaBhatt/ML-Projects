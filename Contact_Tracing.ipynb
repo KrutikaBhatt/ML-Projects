{
 "cells": [
  {
   "cell_type": "markdown",
   "metadata": {
    "id": "6qWdM-id6FNe"
   },
   "source": [
    "# Contact Tracing "
   ]
  },
  {
   "cell_type": "markdown",
   "metadata": {
    "id": "fFpnCRnx6V5v"
   },
   "source": [
    "#### **In this model,we use digital contact tracing algorithm that relies on GPS data, which can be used in contact tracing with machine learning.**\n",
    "\n",
    "Once a person is affected by corona virus, It is very important for us to identify the people who might have been in contact with the person.\n"
   ]
  },
  {
   "cell_type": "code",
   "execution_count": 1,
   "metadata": {
    "colab": {
     "base_uri": "https://localhost:8080/",
     "height": 355
    },
    "id": "zHva6gnU52V1",
    "outputId": "00dee1ef-4d16-40d9-b5f0-398c4a149595"
   },
   "outputs": [
    {
     "data": {
      "text/html": [
       "<div>\n",
       "<style scoped>\n",
       "    .dataframe tbody tr th:only-of-type {\n",
       "        vertical-align: middle;\n",
       "    }\n",
       "\n",
       "    .dataframe tbody tr th {\n",
       "        vertical-align: top;\n",
       "    }\n",
       "\n",
       "    .dataframe thead th {\n",
       "        text-align: right;\n",
       "    }\n",
       "</style>\n",
       "<table border=\"1\" class=\"dataframe\">\n",
       "  <thead>\n",
       "    <tr style=\"text-align: right;\">\n",
       "      <th></th>\n",
       "      <th>id</th>\n",
       "      <th>timestamp</th>\n",
       "      <th>latitude</th>\n",
       "      <th>longitude</th>\n",
       "    </tr>\n",
       "  </thead>\n",
       "  <tbody>\n",
       "    <tr>\n",
       "      <th>0</th>\n",
       "      <td>David</td>\n",
       "      <td>2020-07-04 15:35:30</td>\n",
       "      <td>13.148953</td>\n",
       "      <td>77.593651</td>\n",
       "    </tr>\n",
       "    <tr>\n",
       "      <th>1</th>\n",
       "      <td>David</td>\n",
       "      <td>2020-07-04 16:35:30</td>\n",
       "      <td>13.222397</td>\n",
       "      <td>77.652828</td>\n",
       "    </tr>\n",
       "    <tr>\n",
       "      <th>2</th>\n",
       "      <td>Frank</td>\n",
       "      <td>2020-07-04 14:35:30</td>\n",
       "      <td>13.236507</td>\n",
       "      <td>77.693792</td>\n",
       "    </tr>\n",
       "    <tr>\n",
       "      <th>3</th>\n",
       "      <td>Carol</td>\n",
       "      <td>2020-07-04 21:35:30</td>\n",
       "      <td>13.163716</td>\n",
       "      <td>77.562842</td>\n",
       "    </tr>\n",
       "    <tr>\n",
       "      <th>4</th>\n",
       "      <td>Ivan</td>\n",
       "      <td>2020-07-04 22:35:30</td>\n",
       "      <td>13.232095</td>\n",
       "      <td>77.580273</td>\n",
       "    </tr>\n",
       "    <tr>\n",
       "      <th>5</th>\n",
       "      <td>Erin</td>\n",
       "      <td>2020-07-04 14:35:30</td>\n",
       "      <td>13.132235</td>\n",
       "      <td>77.694382</td>\n",
       "    </tr>\n",
       "    <tr>\n",
       "      <th>6</th>\n",
       "      <td>Bob</td>\n",
       "      <td>2020-07-04 13:35:30</td>\n",
       "      <td>13.224501</td>\n",
       "      <td>77.668313</td>\n",
       "    </tr>\n",
       "    <tr>\n",
       "      <th>7</th>\n",
       "      <td>Grace</td>\n",
       "      <td>2020-07-04 14:35:30</td>\n",
       "      <td>13.142778</td>\n",
       "      <td>77.691560</td>\n",
       "    </tr>\n",
       "    <tr>\n",
       "      <th>8</th>\n",
       "      <td>Alice</td>\n",
       "      <td>2020-07-04 22:35:30</td>\n",
       "      <td>13.090368</td>\n",
       "      <td>77.561579</td>\n",
       "    </tr>\n",
       "    <tr>\n",
       "      <th>9</th>\n",
       "      <td>Frank</td>\n",
       "      <td>2020-07-04 12:35:30</td>\n",
       "      <td>13.208293</td>\n",
       "      <td>77.664607</td>\n",
       "    </tr>\n",
       "  </tbody>\n",
       "</table>\n",
       "</div>"
      ],
      "text/plain": [
       "      id           timestamp   latitude  longitude\n",
       "0  David 2020-07-04 15:35:30  13.148953  77.593651\n",
       "1  David 2020-07-04 16:35:30  13.222397  77.652828\n",
       "2  Frank 2020-07-04 14:35:30  13.236507  77.693792\n",
       "3  Carol 2020-07-04 21:35:30  13.163716  77.562842\n",
       "4   Ivan 2020-07-04 22:35:30  13.232095  77.580273\n",
       "5   Erin 2020-07-04 14:35:30  13.132235  77.694382\n",
       "6    Bob 2020-07-04 13:35:30  13.224501  77.668313\n",
       "7  Grace 2020-07-04 14:35:30  13.142778  77.691560\n",
       "8  Alice 2020-07-04 22:35:30  13.090368  77.561579\n",
       "9  Frank 2020-07-04 12:35:30  13.208293  77.664607"
      ]
     },
     "execution_count": 1,
     "metadata": {},
     "output_type": "execute_result"
    }
   ],
   "source": [
    "import pandas as pd\n",
    "import numpy as np\n",
    "\n",
    "url = \"https://raw.githubusercontent.com/amankharwal/Website-data/master/livedata.json\" #It is a json file\n",
    "df = pd.read_json(url)\n",
    "df.head(10)"
   ]
  },
  {
   "cell_type": "code",
   "execution_count": 2,
   "metadata": {
    "colab": {
     "base_uri": "https://localhost:8080/",
     "height": 35
    },
    "id": "MS1WgnlZ78i9",
    "outputId": "f46afa14-e8e5-4104-e036-f502d020c4ce"
   },
   "outputs": [
    {
     "data": {
      "text/plain": [
       "(100, 4)"
      ]
     },
     "execution_count": 2,
     "metadata": {},
     "output_type": "execute_result"
    }
   ],
   "source": [
    "df.shape"
   ]
  },
  {
   "cell_type": "markdown",
   "metadata": {
    "id": "M9K9rBbD8Gw0"
   },
   "source": [
    "#### There are 100 records in the json file. The table shows the person's location at what time and at what location (latitude,longitude)"
   ]
  },
  {
   "cell_type": "code",
   "execution_count": 3,
   "metadata": {
    "colab": {
     "base_uri": "https://localhost:8080/",
     "height": 87
    },
    "id": "Sl7R9BVA8u1z",
    "outputId": "98456b63-901d-40ad-997f-142844ad5d48"
   },
   "outputs": [
    {
     "name": "stdout",
     "output_type": "stream",
     "text": [
      "id : 0\n",
      "timestamp : 0\n",
      "latitude : 0\n",
      "longitude : 0\n"
     ]
    }
   ],
   "source": [
    "# Lets check if our model has NaN value of empty value\n",
    "columns=df.columns.values\n",
    "for data in columns:\n",
    "    print(data ,':',sum(pd.isnull(df[data])))\n"
   ]
  },
  {
   "cell_type": "markdown",
   "metadata": {
    "id": "hRDHoef__RXz"
   },
   "source": [
    "We dont have any null values in our data file"
   ]
  },
  {
   "cell_type": "code",
   "execution_count": 4,
   "metadata": {
    "colab": {
     "base_uri": "https://localhost:8080/",
     "height": 497
    },
    "id": "1Cg8cBRW_X1g",
    "outputId": "b3331f18-c805-46a2-b44d-df452f5ec91c"
   },
   "outputs": [
    {
     "data": {
      "image/png": "[encoded data removed]",
      "text/plain": [
       "<Figure size 576x576 with 1 Axes>"
      ]
     },
     "metadata": {
      "needs_background": "light"
     },
     "output_type": "display_data"
    }
   ],
   "source": [
    "import matplotlib.pyplot as plt\n",
    "import seaborn as sns\n",
    "%matplotlib inline\n",
    "\n",
    "plt.figure(figsize=(8,8))\n",
    "sns.scatterplot(x='latitude', y='longitude', data=df, hue='id')\n",
    "plt.legend(bbox_to_anchor= [1, 0.8])\n",
    "plt.show()"
   ]
  },
  {
   "cell_type": "markdown",
   "metadata": {
    "id": "RnbDM-PhA1Xa"
   },
   "source": [
    "From the graph ,we can say that people Erin and david were almost at same location. Similarly there are lot of people in the region of longitude 77.58 to 77.60 and latitude 13.10 to 13.15"
   ]
  },
  {
   "cell_type": "markdown",
   "metadata": {
    "id": "hQkw3f4_BqoZ"
   },
   "source": [
    "### **DBSCAN model for Contact Tracing**"
   ]
  },
  {
   "cell_type": "code",
   "execution_count": 5,
   "metadata": {
    "id": "pB73z9y6Blr3"
   },
   "outputs": [],
   "source": [
    "import datetime as dt\n",
    "from sklearn.cluster import DBSCAN\n",
    "\n",
    "def probab_infected_people(name):\n",
    "  epsilon = 0.0018288 \n",
    "  # a radial distance of 6 feet in kilometers\n",
    "\n",
    "  model = DBSCAN(eps=epsilon ,min_samples=2, metric ='haversine')\n",
    "  model.fit(df[['latitude','longitude']])\n",
    "  \n",
    "  df['cluster'] = model.labels_.tolist()\n",
    "\n",
    "  input_name_clusters=[]\n",
    "\n",
    "  for i in range(len(df)):\n",
    "    if (df['id'][i] == name):\n",
    "      if (df['cluster'][i] in input_name_clusters):\n",
    "        pass\n",
    "      else:\n",
    "        input_name_clusters.append(df['cluster'][i])\n",
    "\n",
    "  infected=[]\n",
    "\n",
    "  for cluster in input_name_clusters:\n",
    "    if (cluster!= -1) :\n",
    "      cluster_ids = df.loc[df['cluster'] == cluster, 'id']\n",
    "      for i in range(len(cluster_ids)):\n",
    "        member_id = cluster_ids.iloc[i]\n",
    "        if (member_id not in infected) and (member_id != name):\n",
    "          infected.append(member_id)\n",
    "          \n",
    "        else:\n",
    "          pass\n",
    "\n",
    "  return infected\n",
    "\n"
   ]
  },
  {
   "cell_type": "code",
   "execution_count": 6,
   "metadata": {
    "colab": {
     "base_uri": "https://localhost:8080/",
     "height": 35
    },
    "id": "ZKBNiclDHG-B",
    "outputId": "f5d50f6b-ed5b-4cce-edd7-5bb07e3270e9"
   },
   "outputs": [
    {
     "name": "stdout",
     "output_type": "stream",
     "text": [
      "['Judy']\n"
     ]
    }
   ],
   "source": [
    "print(probab_infected_people(\"Bob\"))"
   ]
  },
  {
   "cell_type": "code",
   "execution_count": null,
   "metadata": {
    "colab": {
     "base_uri": "https://localhost:8080/",
     "height": 35
    },
    "id": "3GWvENGLIybh",
    "outputId": "74bdf53a-129f-44ee-a0ed-b2a9fc3c0fd3"
   },
   "outputs": [],
   "source": [
    "\n"
   ]
  }
 ],
 "metadata": {
  "colab": {
   "collapsed_sections": [],
   "name": "Contact_Tracing.ipynb",
   "provenance": []
  },
  "kernelspec": {
   "display_name": "Python 3",
   "language": "python",
   "name": "python3"
  },
  "language_info": {
   "codemirror_mode": {
    "name": "ipython",
    "version": 3
   },
   "file_extension": ".py",
   "mimetype": "text/x-python",
   "name": "python",
   "nbconvert_exporter": "python",
   "pygments_lexer": "ipython3",
   "version": "3.8.3"
  }
 },
 "nbformat": 4,
 "nbformat_minor": 1
}
